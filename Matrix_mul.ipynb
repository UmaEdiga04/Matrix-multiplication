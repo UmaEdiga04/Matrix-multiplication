{
  "nbformat": 4,
  "nbformat_minor": 0,
  "metadata": {
    "colab": {
      "provenance": [],
      "authorship_tag": "ABX9TyNlemMZMXy9zE8kfkNrGm72",
      "include_colab_link": true
    },
    "kernelspec": {
      "name": "python3",
      "display_name": "Python 3"
    },
    "language_info": {
      "name": "python"
    }
  },
  "cells": [
    {
      "cell_type": "markdown",
      "metadata": {
        "id": "view-in-github",
        "colab_type": "text"
      },
      "source": [
        "<a href=\"https://colab.research.google.com/github/UmaEdiga04/Matrix-multiplication/blob/main/Matrix_mul.ipynb\" target=\"_parent\"><img src=\"https://colab.research.google.com/assets/colab-badge.svg\" alt=\"Open In Colab\"/></a>"
      ]
    },
    {
      "cell_type": "code",
      "execution_count": 1,
      "metadata": {
        "colab": {
          "base_uri": "https://localhost:8080/"
        },
        "id": "WVWsXU1oT26h",
        "outputId": "049b6946-f2e8-4767-a689-0f25f942bf6a"
      },
      "outputs": [
        {
          "output_type": "stream",
          "name": "stdout",
          "text": [
            "[58, 64]\n",
            "[139, 154]\n",
            "[[ 58  64]\n",
            " [139 154]]\n"
          ]
        }
      ],
      "source": [
        "A = [[1, 2, 3],\n",
        "     [4, 5, 6]]\n",
        "\n",
        "B = [[7, 8],\n",
        "     [9, 10],\n",
        "     [11, 12]]\n",
        "C = [[0 for _ in range(len(B[0]))] for _ in range(len(A))]\n",
        "for i in range(len(A)):\n",
        "    for j in range(len(B[0])):\n",
        "        for k in range(len(B)):\n",
        "            C[i][j] += A[i][k] * B[k][j]\n",
        "for row in C:\n",
        "    print(row)\n",
        "import numpy as np\n",
        "A = np.array([[1, 2, 3],\n",
        "              [4, 5, 6]])\n",
        "\n",
        "B = np.array([[7, 8],\n",
        "              [9, 10],\n",
        "              [11, 12]])\n",
        "C = np.dot(A, B)  # Or C = A @ B\n",
        "print(C)\n",
        "\n"
      ]
    }
  ]
}